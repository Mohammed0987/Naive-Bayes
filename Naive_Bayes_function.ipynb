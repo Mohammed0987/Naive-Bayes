{
 "cells": [
  {
   "cell_type": "code",
   "execution_count": 5,
   "metadata": {
    "collapsed": false
   },
   "outputs": [],
   "source": [
    "from datetime import datetime\n",
    "from datascience import *\n",
    "import numpy as np\n",
    "import matplotlib.pyplot as plt\n",
    "%matplotlib inline\n",
    "\n",
    "#In order to gain the optimal use of this function, the user must have clean data: data lacking anomalies, such as nan\n",
    "#or null types as values. Also, data must be comparable with each other such as ints, or strings. \n",
    "\n",
    "#This function is used to calculate the conditional likelihood of each column assuming that the table input has\n",
    "#clean data. The chosen represents the column name which you would like to estimate. The returning statement is a \n",
    "#dictionary of values represented as each key named table + column number and their value representing the condiitonal\n",
    "#likelihood for that column given chosen. There is also a prior key.\n",
    "def conditional(chosen, table):\n",
    "    y = []\n",
    "    prior =[]\n",
    "    holder = table[chosen]\n",
    "    \n",
    "    #Calculate the prior\n",
    "    \n",
    "    for x in table[chosen]:\n",
    "        if x not in y:\n",
    "            y.append(x)\n",
    "    for x in y:\n",
    "        table.where(table[chosen])\n",
    "    for x in y:\n",
    "        prior.append(table.where(chosen,x).num_rows/table.num_rows)\n",
    "    \n",
    "    #Calculate the condiitonal likelihoods\n",
    "    table1 = table.drop(chosen)\n",
    "    table2 = table1.with_column(chosen, holder)\n",
    "    a={}\n",
    "    t=0\n",
    "    for x in range(0,table1.num_columns):\n",
    "        b=[]\n",
    "        for o in table1[x]:\n",
    "            if o not in b:\n",
    "                b.append(o)\n",
    "        b = np.sort(b)\n",
    "        p=[]\n",
    "        q=0\n",
    "        for w in b:\n",
    "            p.append([])\n",
    "            for z in y:\n",
    "                p[q].append(table2.where(chosen,z).where(x,w).num_rows/table.where(chosen,z).num_rows)\n",
    "            q+=1\n",
    "        a['table'+str(t)]=p\n",
    "        t+=1\n",
    "    a['prior'] = prior\n",
    "    return a\n",
    "\n",
    "#Accuracy uses a \"a\" conditional likelihood dictionary, a table on which it will be calculating predictions and \n",
    "#comparing with, and chosen representing the estimated column variable.\n",
    "def accuracy(a, table, chosen):\n",
    "    p=[]\n",
    "    b=[]\n",
    "    table1 = table.drop(chosen)\n",
    "    table2 = table1.with_column(chosen,table[chosen])\n",
    "    for x in range(0,table2.num_columns):\n",
    "        b.append([])\n",
    "        for o in table2[x]:\n",
    "            if o not in b[x]:\n",
    "                b[x].append(o)\n",
    "        b[x] = np.sort(b[x])\n",
    "    for x in range(0, table.num_rows):\n",
    "        prior = np.transpose(a['prior'])\n",
    "        for y in range(0,table1.num_columns):\n",
    "            t = get_index(b[y],table1.take(x)[y][0])\n",
    "            prior=prior*a['table'+str(y)][t]\n",
    "        p.append(b[len(b)-1][np.argmax(prior)])\n",
    "    return np.count_nonzero(p==table[chosen])/table.num_rows\n",
    "\n",
    "#Returns the index of a value, \"y\", in array, \"array\". However if \"y\" is not in \"array\", than return -1.\n",
    "def get_index(array,y):\n",
    "    t=0\n",
    "    for x in array:\n",
    "        if x==y:\n",
    "            return t\n",
    "        t+=1\n",
    "    return -1   \n",
    "\n",
    "#Combining accuracy and conditional, thus we are able to determine the training accuracy. By providing seperate formula\n",
    "#for Accuracy and conditional, it give the user the ability to calculate their estimated probability from a test set.\n",
    "def naiveBayes(chosen, table):\n",
    "    return accuracy(conditional(chosen,table),table, chosen)\n"
   ]
  },
  {
   "cell_type": "code",
   "execution_count": 8,
   "metadata": {
    "collapsed": false
   },
   "outputs": [
    {
     "data": {
      "text/plain": [
       "0.5806666666666667"
      ]
     },
     "execution_count": 8,
     "metadata": {},
     "output_type": "execute_result"
    }
   ],
   "source": [
    "table = Table.read_table(\"bike_train.csv\")\n",
    "naiveBayes('count',table)"
   ]
  },
  {
   "cell_type": "code",
   "execution_count": 9,
   "metadata": {
    "collapsed": false
   },
   "outputs": [
    {
     "data": {
      "text/plain": [
       "0.2791420666837797"
      ]
     },
     "execution_count": 9,
     "metadata": {},
     "output_type": "execute_result"
    }
   ],
   "source": [
    "table = Table.read_table(\"power_data.csv\").drop(0,1)\n",
    "naiveBayes('Power',table)"
   ]
  },
  {
   "cell_type": "code",
   "execution_count": null,
   "metadata": {
    "collapsed": true
   },
   "outputs": [],
   "source": []
  }
 ],
 "metadata": {
  "kernelspec": {
   "display_name": "Python 3",
   "language": "python",
   "name": "python3"
  }
 },
 "nbformat": 4,
 "nbformat_minor": 2
}
